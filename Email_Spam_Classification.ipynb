{
  "nbformat": 4,
  "nbformat_minor": 0,
  "metadata": {
    "colab": {
      "name": "Email Spam Classification.ipynb",
      "provenance": [],
      "collapsed_sections": []
    },
    "kernelspec": {
      "name": "python3",
      "display_name": "Python 3"
    },
    "language_info": {
      "name": "python"
    }
  },
  "cells": [
    {
      "cell_type": "code",
      "execution_count": 2,
      "metadata": {
        "id": "DegH89JcSmtq"
      },
      "outputs": [],
      "source": [
        "import pandas as pd\n",
        "import numpy as np\n",
        "dataset = pd.read_csv('Spam Email raw text for NLP.csv')"
      ]
    },
    {
      "cell_type": "code",
      "source": [
        "dataset"
      ],
      "metadata": {
        "colab": {
          "base_uri": "https://localhost:8080/",
          "height": 423
        },
        "id": "hUwykiJ_VAqk",
        "outputId": "b7aa9918-9424-4216-b3b0-9d0029403d4b"
      },
      "execution_count": 3,
      "outputs": [
        {
          "output_type": "execute_result",
          "data": {
            "text/plain": [
              "      CATEGORY                                            MESSAGE  \\\n",
              "0            1  Dear Homeowner,\\n\\n \\n\\nInterest Rates are at ...   \n",
              "1            1  ATTENTION: This is a MUST for ALL Computer Use...   \n",
              "2            1  This is a multi-part message in MIME format.\\n...   \n",
              "3            1  IMPORTANT INFORMATION:\\n\\n\\n\\nThe new domain n...   \n",
              "4            1  This is the bottom line.  If you can GIVE AWAY...   \n",
              "...        ...                                                ...   \n",
              "5791         0  I'm one of the 30,000 but it's not working ver...   \n",
              "5792         0  Damien Morton quoted:\\n\\n>W3C approves HTML 4 ...   \n",
              "5793         0  On Mon, 2002-07-22 at 06:50, che wrote:\\n\\n\\n\\...   \n",
              "5794         0  Once upon a time, Manfred wrote :\\n\\n\\n\\n> I w...   \n",
              "5795         0  If you run Pick, and then use the \"New FTOC\" b...   \n",
              "\n",
              "                                   FILE_NAME  \n",
              "0     00249.5f45607c1bffe89f60ba1ec9f878039a  \n",
              "1     00373.ebe8670ac56b04125c25100a36ab0510  \n",
              "2     00214.1367039e50dc6b7adb0f2aa8aba83216  \n",
              "3     00210.050ffd105bd4e006771ee63cabc59978  \n",
              "4     00033.9babb58d9298daa2963d4f514193d7d6  \n",
              "...                                      ...  \n",
              "5791  00609.dd49926ce94a1ea328cce9b62825bc97  \n",
              "5792  00957.e0b56b117f3ec5f85e432a9d2a47801f  \n",
              "5793  01127.841233b48eceb74a825417d8d918abf8  \n",
              "5794  01178.5c977dff972cd6eef64d4173b90307f0  \n",
              "5795  00747.352d424267d36975a7b40b85ffd0885e  \n",
              "\n",
              "[5796 rows x 3 columns]"
            ],
            "text/html": [
              "\n",
              "  <div id=\"df-49e1d7b6-d61e-4e5f-9c53-feb0b68b3203\">\n",
              "    <div class=\"colab-df-container\">\n",
              "      <div>\n",
              "<style scoped>\n",
              "    .dataframe tbody tr th:only-of-type {\n",
              "        vertical-align: middle;\n",
              "    }\n",
              "\n",
              "    .dataframe tbody tr th {\n",
              "        vertical-align: top;\n",
              "    }\n",
              "\n",
              "    .dataframe thead th {\n",
              "        text-align: right;\n",
              "    }\n",
              "</style>\n",
              "<table border=\"1\" class=\"dataframe\">\n",
              "  <thead>\n",
              "    <tr style=\"text-align: right;\">\n",
              "      <th></th>\n",
              "      <th>CATEGORY</th>\n",
              "      <th>MESSAGE</th>\n",
              "      <th>FILE_NAME</th>\n",
              "    </tr>\n",
              "  </thead>\n",
              "  <tbody>\n",
              "    <tr>\n",
              "      <th>0</th>\n",
              "      <td>1</td>\n",
              "      <td>Dear Homeowner,\\n\\n \\n\\nInterest Rates are at ...</td>\n",
              "      <td>00249.5f45607c1bffe89f60ba1ec9f878039a</td>\n",
              "    </tr>\n",
              "    <tr>\n",
              "      <th>1</th>\n",
              "      <td>1</td>\n",
              "      <td>ATTENTION: This is a MUST for ALL Computer Use...</td>\n",
              "      <td>00373.ebe8670ac56b04125c25100a36ab0510</td>\n",
              "    </tr>\n",
              "    <tr>\n",
              "      <th>2</th>\n",
              "      <td>1</td>\n",
              "      <td>This is a multi-part message in MIME format.\\n...</td>\n",
              "      <td>00214.1367039e50dc6b7adb0f2aa8aba83216</td>\n",
              "    </tr>\n",
              "    <tr>\n",
              "      <th>3</th>\n",
              "      <td>1</td>\n",
              "      <td>IMPORTANT INFORMATION:\\n\\n\\n\\nThe new domain n...</td>\n",
              "      <td>00210.050ffd105bd4e006771ee63cabc59978</td>\n",
              "    </tr>\n",
              "    <tr>\n",
              "      <th>4</th>\n",
              "      <td>1</td>\n",
              "      <td>This is the bottom line.  If you can GIVE AWAY...</td>\n",
              "      <td>00033.9babb58d9298daa2963d4f514193d7d6</td>\n",
              "    </tr>\n",
              "    <tr>\n",
              "      <th>...</th>\n",
              "      <td>...</td>\n",
              "      <td>...</td>\n",
              "      <td>...</td>\n",
              "    </tr>\n",
              "    <tr>\n",
              "      <th>5791</th>\n",
              "      <td>0</td>\n",
              "      <td>I'm one of the 30,000 but it's not working ver...</td>\n",
              "      <td>00609.dd49926ce94a1ea328cce9b62825bc97</td>\n",
              "    </tr>\n",
              "    <tr>\n",
              "      <th>5792</th>\n",
              "      <td>0</td>\n",
              "      <td>Damien Morton quoted:\\n\\n&gt;W3C approves HTML 4 ...</td>\n",
              "      <td>00957.e0b56b117f3ec5f85e432a9d2a47801f</td>\n",
              "    </tr>\n",
              "    <tr>\n",
              "      <th>5793</th>\n",
              "      <td>0</td>\n",
              "      <td>On Mon, 2002-07-22 at 06:50, che wrote:\\n\\n\\n\\...</td>\n",
              "      <td>01127.841233b48eceb74a825417d8d918abf8</td>\n",
              "    </tr>\n",
              "    <tr>\n",
              "      <th>5794</th>\n",
              "      <td>0</td>\n",
              "      <td>Once upon a time, Manfred wrote :\\n\\n\\n\\n&gt; I w...</td>\n",
              "      <td>01178.5c977dff972cd6eef64d4173b90307f0</td>\n",
              "    </tr>\n",
              "    <tr>\n",
              "      <th>5795</th>\n",
              "      <td>0</td>\n",
              "      <td>If you run Pick, and then use the \"New FTOC\" b...</td>\n",
              "      <td>00747.352d424267d36975a7b40b85ffd0885e</td>\n",
              "    </tr>\n",
              "  </tbody>\n",
              "</table>\n",
              "<p>5796 rows × 3 columns</p>\n",
              "</div>\n",
              "      <button class=\"colab-df-convert\" onclick=\"convertToInteractive('df-49e1d7b6-d61e-4e5f-9c53-feb0b68b3203')\"\n",
              "              title=\"Convert this dataframe to an interactive table.\"\n",
              "              style=\"display:none;\">\n",
              "        \n",
              "  <svg xmlns=\"http://www.w3.org/2000/svg\" height=\"24px\"viewBox=\"0 0 24 24\"\n",
              "       width=\"24px\">\n",
              "    <path d=\"M0 0h24v24H0V0z\" fill=\"none\"/>\n",
              "    <path d=\"M18.56 5.44l.94 2.06.94-2.06 2.06-.94-2.06-.94-.94-2.06-.94 2.06-2.06.94zm-11 1L8.5 8.5l.94-2.06 2.06-.94-2.06-.94L8.5 2.5l-.94 2.06-2.06.94zm10 10l.94 2.06.94-2.06 2.06-.94-2.06-.94-.94-2.06-.94 2.06-2.06.94z\"/><path d=\"M17.41 7.96l-1.37-1.37c-.4-.4-.92-.59-1.43-.59-.52 0-1.04.2-1.43.59L10.3 9.45l-7.72 7.72c-.78.78-.78 2.05 0 2.83L4 21.41c.39.39.9.59 1.41.59.51 0 1.02-.2 1.41-.59l7.78-7.78 2.81-2.81c.8-.78.8-2.07 0-2.86zM5.41 20L4 18.59l7.72-7.72 1.47 1.35L5.41 20z\"/>\n",
              "  </svg>\n",
              "      </button>\n",
              "      \n",
              "  <style>\n",
              "    .colab-df-container {\n",
              "      display:flex;\n",
              "      flex-wrap:wrap;\n",
              "      gap: 12px;\n",
              "    }\n",
              "\n",
              "    .colab-df-convert {\n",
              "      background-color: #E8F0FE;\n",
              "      border: none;\n",
              "      border-radius: 50%;\n",
              "      cursor: pointer;\n",
              "      display: none;\n",
              "      fill: #1967D2;\n",
              "      height: 32px;\n",
              "      padding: 0 0 0 0;\n",
              "      width: 32px;\n",
              "    }\n",
              "\n",
              "    .colab-df-convert:hover {\n",
              "      background-color: #E2EBFA;\n",
              "      box-shadow: 0px 1px 2px rgba(60, 64, 67, 0.3), 0px 1px 3px 1px rgba(60, 64, 67, 0.15);\n",
              "      fill: #174EA6;\n",
              "    }\n",
              "\n",
              "    [theme=dark] .colab-df-convert {\n",
              "      background-color: #3B4455;\n",
              "      fill: #D2E3FC;\n",
              "    }\n",
              "\n",
              "    [theme=dark] .colab-df-convert:hover {\n",
              "      background-color: #434B5C;\n",
              "      box-shadow: 0px 1px 3px 1px rgba(0, 0, 0, 0.15);\n",
              "      filter: drop-shadow(0px 1px 2px rgba(0, 0, 0, 0.3));\n",
              "      fill: #FFFFFF;\n",
              "    }\n",
              "  </style>\n",
              "\n",
              "      <script>\n",
              "        const buttonEl =\n",
              "          document.querySelector('#df-49e1d7b6-d61e-4e5f-9c53-feb0b68b3203 button.colab-df-convert');\n",
              "        buttonEl.style.display =\n",
              "          google.colab.kernel.accessAllowed ? 'block' : 'none';\n",
              "\n",
              "        async function convertToInteractive(key) {\n",
              "          const element = document.querySelector('#df-49e1d7b6-d61e-4e5f-9c53-feb0b68b3203');\n",
              "          const dataTable =\n",
              "            await google.colab.kernel.invokeFunction('convertToInteractive',\n",
              "                                                     [key], {});\n",
              "          if (!dataTable) return;\n",
              "\n",
              "          const docLinkHtml = 'Like what you see? Visit the ' +\n",
              "            '<a target=\"_blank\" href=https://colab.research.google.com/notebooks/data_table.ipynb>data table notebook</a>'\n",
              "            + ' to learn more about interactive tables.';\n",
              "          element.innerHTML = '';\n",
              "          dataTable['output_type'] = 'display_data';\n",
              "          await google.colab.output.renderOutput(dataTable, element);\n",
              "          const docLink = document.createElement('div');\n",
              "          docLink.innerHTML = docLinkHtml;\n",
              "          element.appendChild(docLink);\n",
              "        }\n",
              "      </script>\n",
              "    </div>\n",
              "  </div>\n",
              "  "
            ]
          },
          "metadata": {},
          "execution_count": 3
        }
      ]
    },
    {
      "cell_type": "code",
      "source": [
        "import matplotlib.pyplot as plt"
      ],
      "metadata": {
        "id": "iKfRQaDtV-UG"
      },
      "execution_count": null,
      "outputs": []
    },
    {
      "cell_type": "code",
      "source": [
        ""
      ],
      "metadata": {
        "id": "VKB_OLZPWDyO"
      },
      "execution_count": null,
      "outputs": []
    },
    {
      "cell_type": "code",
      "source": [
        "dataset['CATEGORY'].value_counts()"
      ],
      "metadata": {
        "colab": {
          "base_uri": "https://localhost:8080/"
        },
        "id": "AwHFmeQtWLBA",
        "outputId": "77bfa53a-e8b5-4c84-d4d0-b541344b2746"
      },
      "execution_count": 4,
      "outputs": [
        {
          "output_type": "execute_result",
          "data": {
            "text/plain": [
              "0    3900\n",
              "1    1896\n",
              "Name: CATEGORY, dtype: int64"
            ]
          },
          "metadata": {},
          "execution_count": 4
        }
      ]
    },
    {
      "cell_type": "code",
      "source": [
        "import nltk\n",
        "nltk.download('wordnet')\n",
        "nltk.download('stopwords')\n"
      ],
      "metadata": {
        "colab": {
          "base_uri": "https://localhost:8080/"
        },
        "id": "Y69LQ1gVW2mq",
        "outputId": "9ad26de6-9dc3-49f8-843f-7a6cffb01be8"
      },
      "execution_count": 5,
      "outputs": [
        {
          "output_type": "stream",
          "name": "stdout",
          "text": [
            "[nltk_data] Downloading package wordnet to /root/nltk_data...\n",
            "[nltk_data]   Unzipping corpora/wordnet.zip.\n",
            "[nltk_data] Downloading package stopwords to /root/nltk_data...\n",
            "[nltk_data]   Unzipping corpora/stopwords.zip.\n"
          ]
        },
        {
          "output_type": "execute_result",
          "data": {
            "text/plain": [
              "True"
            ]
          },
          "metadata": {},
          "execution_count": 5
        }
      ]
    },
    {
      "cell_type": "code",
      "source": [
        "from nltk.stem import WordNetLemmatizer\n",
        "lematizer = WordNetLemmatizer()"
      ],
      "metadata": {
        "id": "zQ-N7BARYpWr"
      },
      "execution_count": 6,
      "outputs": []
    },
    {
      "cell_type": "code",
      "source": [
        "\n"
      ],
      "metadata": {
        "id": "_XQTcuwwXpnO"
      },
      "execution_count": null,
      "outputs": []
    },
    {
      "cell_type": "code",
      "source": [
        ""
      ],
      "metadata": {
        "id": "HzvkIb8FZGuE"
      },
      "execution_count": null,
      "outputs": []
    },
    {
      "cell_type": "code",
      "source": [
        "from nltk.corpus import stopwords\n",
        "stopWords = stopwords.words('english')"
      ],
      "metadata": {
        "id": "3VOM0WOkZJ3t"
      },
      "execution_count": 7,
      "outputs": []
    },
    {
      "cell_type": "code",
      "source": [
        "from sklearn.model_selection import train_test_split"
      ],
      "metadata": {
        "id": "hGgFLkxXjzm-"
      },
      "execution_count": 1,
      "outputs": []
    },
    {
      "cell_type": "code",
      "source": [
        ""
      ],
      "metadata": {
        "id": "pDJmB9VKXBEC"
      },
      "execution_count": null,
      "outputs": []
    },
    {
      "cell_type": "code",
      "source": [
        "def messageToTokenList(message):\n",
        "  tokenizer = nltk.RegexpTokenizer(r\"\\w+\")\n",
        "  tokenizedMessage = tokenizer.tokenize(message)\n",
        "  loweredcaseMessage = [i.lower() for i in tokenizedMessage]\n",
        "  lemmatizedMessage = [lematizer.lemmatize(i) for i in loweredcaseMessage]\n",
        "  messageWithUsefulWords = [i for i in lemmatizedMessage if i not in stopWords]\n",
        "  return messageWithUsefulWords\n"
      ],
      "metadata": {
        "id": "sG3M9ayiXBVC"
      },
      "execution_count": 17,
      "outputs": []
    },
    {
      "cell_type": "code",
      "source": [
        "messageToTokenList(\"DEar ahmed, tell me what did you do?\")"
      ],
      "metadata": {
        "colab": {
          "base_uri": "https://localhost:8080/"
        },
        "id": "IJNOw6yNY9JW",
        "outputId": "c2eccaf3-6d6f-4c87-eb9a-a4b355bc8e07"
      },
      "execution_count": 18,
      "outputs": [
        {
          "output_type": "execute_result",
          "data": {
            "text/plain": [
              "['dear', 'ahmed', 'tell']"
            ]
          },
          "metadata": {},
          "execution_count": 18
        }
      ]
    },
    {
      "cell_type": "code",
      "source": [
        "def countOfWords(messages):\n",
        "  wordCounts = {}\n",
        "\n",
        "  for message in messages:\n",
        "    messageTokens = messageToTokenList(message)\n",
        "    for token in messageTokens:\n",
        "      if token not in wordCounts:\n",
        "        wordCounts[token] = 1\n",
        "      else:\n",
        "        wordCounts[token]+=1\n",
        "  return wordCounts"
      ],
      "metadata": {
        "id": "CxuG6WE7ZJzg"
      },
      "execution_count": 19,
      "outputs": []
    },
    {
      "cell_type": "code",
      "source": [
        "words_count = countOfWords(dataset['MESSAGE'])"
      ],
      "metadata": {
        "id": "LUTRtS-Kcd-D"
      },
      "execution_count": 21,
      "outputs": []
    },
    {
      "cell_type": "code",
      "source": [
        "def keepToken(token,threshold,word_count):\n",
        "  if token not in word_count or word_count[token]<threshold:\n",
        "    return False\n",
        "  else:\n",
        "    return True\n",
        "keepToken('investor',200,words_count)"
      ],
      "metadata": {
        "colab": {
          "base_uri": "https://localhost:8080/"
        },
        "id": "TXhB2BKtbbeW",
        "outputId": "9f8db799-7a4a-4051-947a-a30d6f592d1a"
      },
      "execution_count": 22,
      "outputs": [
        {
          "output_type": "execute_result",
          "data": {
            "text/plain": [
              "False"
            ]
          },
          "metadata": {},
          "execution_count": 22
        }
      ]
    },
    {
      "cell_type": "code",
      "source": [
        "print(len(words_count))"
      ],
      "metadata": {
        "colab": {
          "base_uri": "https://localhost:8080/"
        },
        "id": "qfwmapZhbfAm",
        "outputId": "b8e5f3e4-d26c-4cd1-933a-ded9fa1c7b39"
      },
      "execution_count": 24,
      "outputs": [
        {
          "output_type": "stream",
          "name": "stdout",
          "text": [
            "98990\n"
          ]
        }
      ]
    },
    {
      "cell_type": "code",
      "source": [
        "def assignImportantFeatures(tokens_count):\n",
        "  features = set()\n",
        "  for token in tokens_count:\n",
        "    if keepToken(token,600,tokens_count):\n",
        "      features.add(token)\n",
        "  features = list(features)\n",
        "  return features"
      ],
      "metadata": {
        "id": "KHcTdmcgc4rL"
      },
      "execution_count": 25,
      "outputs": []
    },
    {
      "cell_type": "code",
      "source": [
        "features = assignImportantFeatures(words_count)\n",
        "indexedFeatuers = {i:j for i,j in zip(features,range(len(features)))}\n",
        "indexedFeatuers"
      ],
      "metadata": {
        "colab": {
          "base_uri": "https://localhost:8080/"
        },
        "id": "7n5Mv9DYeAoI",
        "outputId": "12e83a53-0d94-43ad-a400-ff269140cada"
      },
      "execution_count": 30,
      "outputs": [
        {
          "output_type": "execute_result",
          "data": {
            "text/plain": [
              "{'0': 14,\n",
              " '00': 149,\n",
              " '000': 37,\n",
              " '000000': 129,\n",
              " '0000ff': 334,\n",
              " '01': 94,\n",
              " '02': 76,\n",
              " '09': 17,\n",
              " '0pt': 228,\n",
              " '1': 19,\n",
              " '10': 376,\n",
              " '100': 361,\n",
              " '11': 46,\n",
              " '12': 150,\n",
              " '13': 185,\n",
              " '14': 246,\n",
              " '15': 289,\n",
              " '18': 340,\n",
              " '19': 232,\n",
              " '2': 198,\n",
              " '20': 332,\n",
              " '2002': 9,\n",
              " '21': 99,\n",
              " '22': 196,\n",
              " '23': 308,\n",
              " '24': 12,\n",
              " '25': 331,\n",
              " '2e': 136,\n",
              " '2ffont': 381,\n",
              " '3': 50,\n",
              " '30': 42,\n",
              " '31': 163,\n",
              " '3b': 259,\n",
              " '3c': 352,\n",
              " '3cfont': 236,\n",
              " '3d': 190,\n",
              " '3d0': 73,\n",
              " '3d2': 36,\n",
              " '3d4': 359,\n",
              " '3darial': 216,\n",
              " '3dcenter': 280,\n",
              " '3e': 175,\n",
              " '4': 191,\n",
              " '5': 192,\n",
              " '50': 174,\n",
              " '6': 366,\n",
              " '7': 335,\n",
              " '8': 142,\n",
              " '81': 213,\n",
              " '8859': 329,\n",
              " '9': 350,\n",
              " '99': 377,\n",
              " '_': 71,\n",
              " '_______________________________________________': 102,\n",
              " 'a3': 116,\n",
              " 'access': 53,\n",
              " 'ad': 279,\n",
              " 'address': 91,\n",
              " 'align': 165,\n",
              " 'also': 225,\n",
              " 'alt': 278,\n",
              " 'another': 171,\n",
              " 'anyone': 61,\n",
              " 'application': 101,\n",
              " 'arial': 248,\n",
              " 'asp': 241,\n",
              " 'available': 254,\n",
              " 'b': 78,\n",
              " 'b5': 209,\n",
              " 'back': 226,\n",
              " 'background': 355,\n",
              " 'based': 330,\n",
              " 'bb': 274,\n",
              " 'best': 156,\n",
              " 'better': 333,\n",
              " 'bgcolor': 325,\n",
              " 'big': 346,\n",
              " 'black': 245,\n",
              " 'blockquote': 59,\n",
              " 'body': 229,\n",
              " 'border': 386,\n",
              " 'bordercolor': 123,\n",
              " 'bottom': 126,\n",
              " 'br': 8,\n",
              " 'build': 166,\n",
              " 'business': 52,\n",
              " 'c': 339,\n",
              " 'ca': 181,\n",
              " 'call': 384,\n",
              " 'card': 128,\n",
              " 'case': 296,\n",
              " 'cd': 383,\n",
              " 'cellpadding': 337,\n",
              " 'cellspacing': 300,\n",
              " 'center': 85,\n",
              " 'change': 56,\n",
              " 'charset': 235,\n",
              " 'check': 167,\n",
              " 'class': 322,\n",
              " 'click': 15,\n",
              " 'co': 283,\n",
              " 'code': 341,\n",
              " 'color': 64,\n",
              " 'colspan': 358,\n",
              " 'com': 20,\n",
              " 'come': 35,\n",
              " 'communication': 387,\n",
              " 'company': 87,\n",
              " 'computer': 54,\n",
              " 'contact': 88,\n",
              " 'content': 285,\n",
              " 'cost': 206,\n",
              " 'could': 249,\n",
              " 'country': 82,\n",
              " 'credit': 127,\n",
              " 'customer': 103,\n",
              " 'data': 267,\n",
              " 'date': 77,\n",
              " 'day': 117,\n",
              " 'de': 148,\n",
              " 'different': 264,\n",
              " 'div': 57,\n",
              " 'doe': 380,\n",
              " 'e': 30,\n",
              " 'easy': 371,\n",
              " 'em': 242,\n",
              " 'email': 200,\n",
              " 'en': 43,\n",
              " 'encoding': 244,\n",
              " 'end': 277,\n",
              " 'error': 231,\n",
              " 'etc': 7,\n",
              " 'even': 160,\n",
              " 'every': 24,\n",
              " 'exmh': 79,\n",
              " 'f': 237,\n",
              " 'face': 221,\n",
              " 'family': 97,\n",
              " 'ff0000': 31,\n",
              " 'ffffff': 140,\n",
              " 'file': 146,\n",
              " 'find': 318,\n",
              " 'first': 176,\n",
              " 'following': 238,\n",
              " 'font': 115,\n",
              " 'fork': 260,\n",
              " 'form': 125,\n",
              " 'found': 199,\n",
              " 'free': 374,\n",
              " 'freshrpms': 211,\n",
              " 'future': 268,\n",
              " 'g': 271,\n",
              " 'get': 222,\n",
              " 'gif': 105,\n",
              " 'give': 157,\n",
              " 'go': 281,\n",
              " 'going': 351,\n",
              " 'good': 382,\n",
              " 'got': 294,\n",
              " 'government': 130,\n",
              " 'grant': 353,\n",
              " 'great': 104,\n",
              " 'group': 81,\n",
              " 'h': 347,\n",
              " 'ha': 197,\n",
              " 'head': 155,\n",
              " 'height': 69,\n",
              " 'help': 182,\n",
              " 'helvetica': 92,\n",
              " 'high': 107,\n",
              " 'home': 203,\n",
              " 'hour': 5,\n",
              " 'href': 315,\n",
              " 'htm': 247,\n",
              " 'html': 119,\n",
              " 'http': 338,\n",
              " 'id': 210,\n",
              " 'idea': 323,\n",
              " 'ie': 147,\n",
              " 'iiq': 55,\n",
              " 'ilug': 369,\n",
              " 'image': 47,\n",
              " 'img': 275,\n",
              " 'index': 311,\n",
              " 'info': 29,\n",
              " 'information': 44,\n",
              " 'input': 143,\n",
              " 'insurance': 66,\n",
              " 'interest': 219,\n",
              " 'internet': 188,\n",
              " 'irish': 360,\n",
              " 'issue': 307,\n",
              " 'jpg': 49,\n",
              " 'keep': 72,\n",
              " 'know': 269,\n",
              " 'l': 266,\n",
              " 'last': 118,\n",
              " 'le': 183,\n",
              " 'left': 164,\n",
              " 'legal': 178,\n",
              " 'let': 84,\n",
              " 'li': 356,\n",
              " 'life': 326,\n",
              " 'like': 27,\n",
              " 'line': 25,\n",
              " 'link': 233,\n",
              " 'linux': 328,\n",
              " 'list': 302,\n",
              " 'listinfo': 239,\n",
              " 'listmaster': 304,\n",
              " 'long': 303,\n",
              " 'look': 227,\n",
              " 'looking': 108,\n",
              " 'lot': 207,\n",
              " 'made': 354,\n",
              " 'mail': 6,\n",
              " 'mailing': 272,\n",
              " 'mailman': 144,\n",
              " 'mailto': 218,\n",
              " 'maintainer': 290,\n",
              " 'make': 111,\n",
              " 'many': 298,\n",
              " 'margin': 89,\n",
              " 'market': 321,\n",
              " 'marketing': 194,\n",
              " 'may': 113,\n",
              " 'message': 41,\n",
              " 'meta': 195,\n",
              " 'might': 153,\n",
              " 'million': 252,\n",
              " 'money': 141,\n",
              " 'month': 388,\n",
              " 'mso': 109,\n",
              " 'much': 324,\n",
              " 'must': 22,\n",
              " 'n': 51,\n",
              " 'name': 314,\n",
              " 'nbsp': 74,\n",
              " 'need': 40,\n",
              " 'net': 114,\n",
              " 'network': 287,\n",
              " 'never': 286,\n",
              " 'new': 257,\n",
              " 'news': 189,\n",
              " 'next': 344,\n",
              " 'number': 367,\n",
              " 'offer': 292,\n",
              " 'old': 121,\n",
              " 'one': 135,\n",
              " 'online': 16,\n",
              " 'opportunity': 180,\n",
              " 'option': 365,\n",
              " 'order': 309,\n",
              " 'org': 138,\n",
              " 'p': 158,\n",
              " 'package': 137,\n",
              " 'page': 306,\n",
              " 'part': 0,\n",
              " 'people': 33,\n",
              " 'per': 120,\n",
              " 'perl': 313,\n",
              " 'phone': 263,\n",
              " 'place': 357,\n",
              " 'please': 305,\n",
              " 'point': 168,\n",
              " 'price': 214,\n",
              " 'problem': 375,\n",
              " 'product': 152,\n",
              " 'professional': 373,\n",
              " 'program': 363,\n",
              " 'public': 204,\n",
              " 'put': 131,\n",
              " 'question': 68,\n",
              " 'r': 345,\n",
              " 'rate': 10,\n",
              " 'razor': 139,\n",
              " 'read': 28,\n",
              " 'real': 265,\n",
              " 'really': 342,\n",
              " 'receive': 224,\n",
              " 'received': 276,\n",
              " 'red': 100,\n",
              " 'redhat': 291,\n",
              " 'remove': 112,\n",
              " 'removed': 217,\n",
              " 'reply': 284,\n",
              " 'report': 122,\n",
              " 'result': 154,\n",
              " 'right': 378,\n",
              " 'rpm': 161,\n",
              " 'run': 80,\n",
              " 'said': 251,\n",
              " 'sale': 320,\n",
              " 'sans': 327,\n",
              " 'save': 273,\n",
              " 'say': 172,\n",
              " 'search': 39,\n",
              " 'security': 63,\n",
              " 'see': 2,\n",
              " 'send': 301,\n",
              " 'sent': 215,\n",
              " 'serif': 193,\n",
              " 'server': 297,\n",
              " 'service': 96,\n",
              " 'set': 106,\n",
              " 'sf': 293,\n",
              " 'signature': 95,\n",
              " 'since': 243,\n",
              " 'site': 45,\n",
              " 'size': 4,\n",
              " 'small': 3,\n",
              " 'software': 261,\n",
              " 'something': 201,\n",
              " 'source': 62,\n",
              " 'sourceforge': 343,\n",
              " 'spam': 75,\n",
              " 'spamassassin': 317,\n",
              " 'span': 270,\n",
              " 'special': 151,\n",
              " 'sponsored': 184,\n",
              " 'src': 220,\n",
              " 'start': 295,\n",
              " 'state': 173,\n",
              " 'still': 202,\n",
              " 'strong': 18,\n",
              " 'style': 145,\n",
              " 'subject': 255,\n",
              " 'subscription': 133,\n",
              " 'support': 282,\n",
              " 'sure': 170,\n",
              " 'system': 93,\n",
              " 'table': 385,\n",
              " 'tahoma': 179,\n",
              " 'take': 65,\n",
              " 'talk': 205,\n",
              " 'tbody': 177,\n",
              " 'td': 312,\n",
              " 'technology': 32,\n",
              " 'term': 162,\n",
              " 'text': 58,\n",
              " 'thing': 288,\n",
              " 'think': 186,\n",
              " 'thinkgeek': 262,\n",
              " 'time': 11,\n",
              " 'title': 13,\n",
              " 'today': 124,\n",
              " 'top': 370,\n",
              " 'tr': 110,\n",
              " 'transfer': 159,\n",
              " 'try': 1,\n",
              " 'two': 316,\n",
              " 'type': 310,\n",
              " 'u': 362,\n",
              " 'un': 379,\n",
              " 'unsubscribe': 234,\n",
              " 'url': 60,\n",
              " 'use': 349,\n",
              " 'used': 208,\n",
              " 'user': 48,\n",
              " 'using': 256,\n",
              " 'v': 132,\n",
              " 'valign': 230,\n",
              " 'value': 169,\n",
              " 'verdana': 372,\n",
              " 'version': 253,\n",
              " 'w': 86,\n",
              " 'wa': 368,\n",
              " 'want': 38,\n",
              " 'way': 83,\n",
              " 'web': 336,\n",
              " 'website': 250,\n",
              " 'week': 134,\n",
              " 'well': 34,\n",
              " 'width': 26,\n",
              " 'window': 90,\n",
              " 'wish': 212,\n",
              " 'within': 70,\n",
              " 'without': 258,\n",
              " 'word': 223,\n",
              " 'work': 98,\n",
              " 'world': 240,\n",
              " 'would': 23,\n",
              " 'wrote': 67,\n",
              " 'www': 299,\n",
              " 'x': 319,\n",
              " 'xent': 21,\n",
              " 'yahoo': 187,\n",
              " 'year': 348,\n",
              " 'yes': 364}"
            ]
          },
          "metadata": {},
          "execution_count": 30
        }
      ]
    },
    {
      "cell_type": "code",
      "source": [
        "def prepareFeatures(message,features):\n",
        "  featuresVector = np.zeros(len(features))\n",
        "  tokensList = messageToTokenList(message)\n",
        "  for token in tokensList:\n",
        "    if token not in features:\n",
        "      continue\n",
        "    index = indexedFeatuers[token]\n",
        "    featuresVector[index]+=1\n",
        "  return featuresVector\n"
      ],
      "metadata": {
        "id": "Ny73zr1NeEY6"
      },
      "execution_count": 33,
      "outputs": []
    },
    {
      "cell_type": "code",
      "source": [
        "def returnCustomizedDataset(df):\n",
        "  y = df['CATEGORY'].to_numpy().astype(int)\n",
        "  featuresVector = []\n",
        "  for i in df['MESSAGE']:\n",
        "    smallVector = prepareFeatures(i,features)\n",
        "    featuresVector.append(smallVector)\n",
        "  X = np.array(featuresVector).astype(int)\n",
        "  return X,y"
      ],
      "metadata": {
        "id": "teAyH6I7gYHM"
      },
      "execution_count": 34,
      "outputs": []
    },
    {
      "cell_type": "code",
      "source": [
        "X,Y = returnCustomizedDataset(dataset)"
      ],
      "metadata": {
        "id": "pHGSb8IShjjj"
      },
      "execution_count": 41,
      "outputs": []
    },
    {
      "cell_type": "code",
      "source": [
        "X.shape,Y.shape"
      ],
      "metadata": {
        "colab": {
          "base_uri": "https://localhost:8080/"
        },
        "id": "dJMmiq0OhtTR",
        "outputId": "57987635-0af8-4d76-dcb1-09776fb78ac6"
      },
      "execution_count": 57,
      "outputs": [
        {
          "output_type": "execute_result",
          "data": {
            "text/plain": [
              "((5796, 389), (5796,))"
            ]
          },
          "metadata": {},
          "execution_count": 57
        }
      ]
    },
    {
      "cell_type": "code",
      "source": [
        "Y.shape"
      ],
      "metadata": {
        "colab": {
          "base_uri": "https://localhost:8080/"
        },
        "id": "KdAhGJ51hu_U",
        "outputId": "f76fbfcb-9bc4-48e6-c832-1f493ff02aae"
      },
      "execution_count": 43,
      "outputs": [
        {
          "output_type": "execute_result",
          "data": {
            "text/plain": [
              "(5796,)"
            ]
          },
          "metadata": {},
          "execution_count": 43
        }
      ]
    },
    {
      "cell_type": "code",
      "source": [
        "X"
      ],
      "metadata": {
        "colab": {
          "base_uri": "https://localhost:8080/"
        },
        "id": "WI10_tiyhwk0",
        "outputId": "5403e40b-7900-44b3-d88e-c2ba61735239"
      },
      "execution_count": 44,
      "outputs": [
        {
          "output_type": "execute_result",
          "data": {
            "text/plain": [
              "array([[0, 0, 0, ..., 0, 0, 0],\n",
              "       [0, 0, 0, ..., 0, 0, 0],\n",
              "       [1, 2, 0, ..., 4, 2, 0],\n",
              "       ...,\n",
              "       [0, 0, 0, ..., 0, 0, 0],\n",
              "       [0, 0, 0, ..., 0, 0, 0],\n",
              "       [0, 0, 0, ..., 0, 0, 0]])"
            ]
          },
          "metadata": {},
          "execution_count": 44
        }
      ]
    },
    {
      "cell_type": "code",
      "source": [
        "Y"
      ],
      "metadata": {
        "colab": {
          "base_uri": "https://localhost:8080/"
        },
        "id": "SW7Dxjs3hyxD",
        "outputId": "9764c2d1-fab6-4e25-c746-047ffd6905fb"
      },
      "execution_count": 45,
      "outputs": [
        {
          "output_type": "execute_result",
          "data": {
            "text/plain": [
              "array([1, 1, 1, ..., 0, 0, 0])"
            ]
          },
          "metadata": {},
          "execution_count": 45
        }
      ]
    },
    {
      "cell_type": "code",
      "source": [
        "X_train,X_test,y_train,y_test = train_test_split(X,Y,test_size = 0.3)"
      ],
      "metadata": {
        "id": "es9r4ohlh0ag"
      },
      "execution_count": 63,
      "outputs": []
    },
    {
      "cell_type": "code",
      "source": [
        "y_test"
      ],
      "metadata": {
        "colab": {
          "base_uri": "https://localhost:8080/"
        },
        "id": "-zo1Xf3-icQG",
        "outputId": "731776b4-bc4b-4378-93f9-c2d506b9860a"
      },
      "execution_count": 47,
      "outputs": [
        {
          "output_type": "execute_result",
          "data": {
            "text/plain": [
              "array([1, 0, 0, ..., 1, 0, 0])"
            ]
          },
          "metadata": {},
          "execution_count": 47
        }
      ]
    },
    {
      "cell_type": "code",
      "source": [
        "X_train.shape"
      ],
      "metadata": {
        "colab": {
          "base_uri": "https://localhost:8080/"
        },
        "id": "T_hsYsTyi-m7",
        "outputId": "8e8290a9-099b-4f0d-d785-8021d9c573ef"
      },
      "execution_count": 50,
      "outputs": [
        {
          "output_type": "execute_result",
          "data": {
            "text/plain": [
              "(4057, 389)"
            ]
          },
          "metadata": {},
          "execution_count": 50
        }
      ]
    },
    {
      "cell_type": "code",
      "source": [
        "from sklearn.preprocessing import MinMaxScaler\n",
        "\n",
        "scaler = MinMaxScaler().fit(X)\n",
        "\n",
        "X_train = scaler.transform(X)\n"
      ],
      "metadata": {
        "id": "2WLLyrIkizey"
      },
      "execution_count": 60,
      "outputs": []
    },
    {
      "cell_type": "code",
      "source": [
        "X_train,y_train,X_test,y_test = "
      ],
      "metadata": {
        "id": "oQE-pmj-khhj"
      },
      "execution_count": null,
      "outputs": []
    },
    {
      "cell_type": "code",
      "source": [
        "from sklearn.ensemble import RandomForestClassifier\n",
        "\n",
        "rf = RandomForestClassifier().fit(X, Y)\n"
      ],
      "metadata": {
        "id": "OVNX1m7qidrc"
      },
      "execution_count": 61,
      "outputs": []
    },
    {
      "cell_type": "code",
      "source": [
        "rf.score(X,Y)"
      ],
      "metadata": {
        "colab": {
          "base_uri": "https://localhost:8080/"
        },
        "id": "qn3OWTN9ilep",
        "outputId": "8936d29e-1fa1-42d1-ca72-207f9244db6b"
      },
      "execution_count": 62,
      "outputs": [
        {
          "output_type": "execute_result",
          "data": {
            "text/plain": [
              "0.9998274672187716"
            ]
          },
          "metadata": {},
          "execution_count": 62
        }
      ]
    },
    {
      "cell_type": "code",
      "source": [
        "rf2 = RandomForestClassifier().fit(X_train,y_train)\n"
      ],
      "metadata": {
        "id": "_tmJ1QcXkYhb"
      },
      "execution_count": 64,
      "outputs": []
    },
    {
      "cell_type": "code",
      "source": [
        "rf2.score(X_train,y_train)"
      ],
      "metadata": {
        "colab": {
          "base_uri": "https://localhost:8080/"
        },
        "id": "J4i0MWc_lCDA",
        "outputId": "288217a8-b854-481b-b862-c483e5915554"
      },
      "execution_count": 66,
      "outputs": [
        {
          "output_type": "execute_result",
          "data": {
            "text/plain": [
              "1.0"
            ]
          },
          "metadata": {},
          "execution_count": 66
        }
      ]
    },
    {
      "cell_type": "code",
      "source": [
        "rf2.score(X_test,y_test)"
      ],
      "metadata": {
        "colab": {
          "base_uri": "https://localhost:8080/"
        },
        "id": "Pi87NYDmlHS2",
        "outputId": "bf44a333-059f-4324-b024-a1e1c5eeda58"
      },
      "execution_count": 67,
      "outputs": [
        {
          "output_type": "execute_result",
          "data": {
            "text/plain": [
              "0.9810235767682576"
            ]
          },
          "metadata": {},
          "execution_count": 67
        }
      ]
    },
    {
      "cell_type": "code",
      "source": [
        ""
      ],
      "metadata": {
        "id": "kGDW0_C0lL4m"
      },
      "execution_count": null,
      "outputs": []
    }
  ]
}